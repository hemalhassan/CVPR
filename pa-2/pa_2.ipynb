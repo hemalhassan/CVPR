{
  "nbformat": 4,
  "nbformat_minor": 0,
  "metadata": {
    "colab": {
      "name": "pa-2.ipynb",
      "provenance": [],
      "collapsed_sections": []
    },
    "kernelspec": {
      "name": "python3",
      "display_name": "Python 3"
    },
    "language_info": {
      "name": "python"
    }
  },
  "cells": [
    {
      "cell_type": "code",
      "metadata": {
        "id": "iN2PCg4WpfxI"
      },
      "source": [
        "import os\n",
        "import numpy as np\n",
        "import cv2\n",
        "from time import time\n",
        "from tensorflow.keras import utils\n",
        "from tensorflow.keras.optimizers import Adam\n",
        "from tensorflow.keras.models import Sequential\n",
        "from keras.layers import Dense\n",
        "from keras.layers import Conv2D\n",
        "from keras.layers import Flatten\n",
        "from keras.layers import MaxPool2D \n",
        "from keras.preprocessing.image import ImageDataGenerator\n",
        "from sklearn.model_selection import train_test_split\n",
        "from tqdm import tqdm\n",
        "from tqdm.notebook import tqdm, trange\n",
        "import matplotlib.pyplot as plt\n",
        "import string\n",
        "%matplotlib inline"
      ],
      "execution_count": 9,
      "outputs": []
    },
    {
      "cell_type": "code",
      "metadata": {
        "colab": {
          "base_uri": "https://localhost:8080/",
          "height": 135
        },
        "id": "NFa-VgRYqpO6",
        "outputId": "2e0ced3e-7626-4a7f-8325-b407a46ce6a6"
      },
      "source": [
        "train_dir = 'F:\\CVP_R\\asl_alphabet_train\\'\n",
        "test_dir = 'F:\\CVP_R\\asl_alphabet_test\\'\n",
        "alphabets = string.ascii_uppercase #loads all the alphabets in uppercase\n",
        "extra_char=['nothing', 'space', 'del'] #3 extra folders that needs reading\n",
        "\n",
        "plt.figure(figsize=(10,10))\n",
        "for i in range (26):\n",
        "    plt.subplot(5,6,i+1)\n",
        "    plt.xticks([])\n",
        "    plt.yticks([])\n",
        "    path = train_dir + \"/{0}/{0}1.jpg\".format(alphabets[i])\n",
        "    img = plt.imread(path)\n",
        "    plt.imshow(img)\n",
        "    plt.xlabel(alphabets[i])\n",
        "\n",
        "plt.figure(figsize=(5,5))\n",
        "for j in range (3):\n",
        "    plt.subplot(1,3,j+1)\n",
        "    plt.xticks([])\n",
        "    plt.yticks([])\n",
        "    path = train_dir + \"/{0}/{0}1.jpg\".format(extra_char[j])\n",
        "    img = plt.imread(path)\n",
        "    plt.imshow(img)"
      ],
      "execution_count": 10,
      "outputs": [
        {
          "output_type": "error",
          "ename": "SyntaxError",
          "evalue": "ignored",
          "traceback": [
            "\u001b[0;36m  File \u001b[0;32m\"<ipython-input-10-76fd784631fe>\"\u001b[0;36m, line \u001b[0;32m1\u001b[0m\n\u001b[0;31m    train_dir = 'F:\\CVP_R\\asl_alphabet_train\\'\u001b[0m\n\u001b[0m                                              ^\u001b[0m\n\u001b[0;31mSyntaxError\u001b[0m\u001b[0;31m:\u001b[0m EOL while scanning string literal\n"
          ]
        }
      ]
    }
  ]
}